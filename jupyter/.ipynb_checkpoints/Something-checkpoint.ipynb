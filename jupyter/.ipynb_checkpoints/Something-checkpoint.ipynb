{
 "cells": [
  {
   "cell_type": "code",
   "execution_count": 4,
   "id": "386b5d55-c2f8-4865-9a56-58dee02ace95",
   "metadata": {},
   "outputs": [
    {
     "name": "stdout",
     "output_type": "stream",
     "text": [
      "HEllo World\n",
      "I summed it up\n"
     ]
    }
   ],
   "source": [
    "print('HEllo World')\n",
    "def summing() :\n",
    "  print('I summed it up')\n",
    "summing()"
   ]
  },
  {
   "cell_type": "code",
   "execution_count": null,
   "id": "fd377c77-c167-46c3-9f26-f4d324af289d",
   "metadata": {},
   "outputs": [],
   "source": []
  }
 ],
 "metadata": {
  "kernelspec": {
   "display_name": "Python 3 (ipykernel)",
   "language": "python",
   "name": "python3"
  },
  "language_info": {
   "codemirror_mode": {
    "name": "ipython",
    "version": 3
   },
   "file_extension": ".py",
   "mimetype": "text/x-python",
   "name": "python",
   "nbconvert_exporter": "python",
   "pygments_lexer": "ipython3",
   "version": "3.10.4"
  }
 },
 "nbformat": 4,
 "nbformat_minor": 5
}
